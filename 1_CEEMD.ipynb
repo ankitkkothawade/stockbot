{
 "cells": [
  {
   "cell_type": "code",
   "execution_count": null,
   "id": "3dcfe387",
   "metadata": {},
   "outputs": [
    {
     "name": "stderr",
     "output_type": "stream",
     "text": [
      "C:\\Users\\mahes\\AppData\\Local\\Temp\\ipykernel_6324\\182127315.py:21: FutureWarning: YF.download() has changed argument auto_adjust default to True\n",
      "  df = yf.download(ticker, start=START, end=END, progress=False)\n"
     ]
    }
   ],
   "source": [
    "import os\n",
    "import numpy as np\n",
    "import pandas as pd\n",
    "import yfinance as yf\n",
    "from scipy.signal    import detrend\n",
    "from ta.momentum     import RSIIndicator\n",
    "from ta.trend        import MACD\n",
    "from ta.volatility   import BollingerBands\n",
    "from PyEMD           import CEEMDAN\n",
    "\n",
    "# ─── CONFIG ────────────────────────────────────────────────────────────────────\n",
    "TICKERS = [\"AAPL\", \"JPM\", \"AMZN\", \"TSLA\", \"MSFT\"]\n",
    "START   = \"2000-01-01\"\n",
    "END     = \"2025-01-01\"\n",
    "OUTDIR  = \"preprocessed_data\"\n",
    "os.makedirs(OUTDIR, exist_ok=True)\n",
    "\n",
    "# ─── LOOP OVER TICKERS ─────────────────────────────────────────────────────────\n",
    "for ticker in TICKERS:\n",
    "    # 1) Download price & volume\n",
    "    df = yf.download(ticker, start=START, end=END, progress=False)\n",
    "    # flatten any MultiIndex (e.g. from yfinance)\n",
    "    if isinstance(df.columns, pd.MultiIndex):\n",
    "        df.columns = df.columns.droplevel(1)\n",
    "\n",
    "    close  = df[\"Close\"]\n",
    "    volume = df[\"Volume\"]\n",
    "\n",
    "    # 2) Compute technical indicators\n",
    "    rsi      = RSIIndicator(close=close, window=14, fillna=True).rsi()\n",
    "    macd_obj = MACD(close=close, window_slow=26, window_fast=12, window_sign=9)\n",
    "    bb_obj   = BollingerBands(close=close, window=20, window_dev=2)\n",
    "\n",
    "    tech = pd.concat([\n",
    "        volume.rename(\"Volume\"),\n",
    "        rsi.rename(\"RSI\"),\n",
    "        macd_obj.macd().rename(\"MACD\"),\n",
    "        macd_obj.macd_signal().rename(\"MACD_Signal\"),\n",
    "        bb_obj.bollinger_hband().rename(\"BB_High\"),\n",
    "        bb_obj.bollinger_lband().rename(\"BB_Low\"),\n",
    "    ], axis=1).ffill().bfill()\n",
    "\n",
    "    # 3) CEEMDAN on detrended close\n",
    "    sig      = close.to_numpy(dtype=np.float64)\n",
    "    sig_dt   = detrend(sig)\n",
    "    ceemdan  = CEEMDAN(trials=100, noise_width=0.05, max_imf=6, parallel=True, n_jobs=-1)\n",
    "    time     = np.arange(len(sig_dt), dtype=np.float64)\n",
    "    imfs     = ceemdan.ceemdan(sig_dt, time)  # shape (n_imfs, T)\n",
    "\n",
    "    # 4) Select IMFs by energy & correlation\n",
    "    energies      = (imfs ** 2).sum(axis=1)\n",
    "    energy_ratios = energies / energies.sum()\n",
    "    cors          = np.array([np.corrcoef(imf, sig_dt)[0,1] for imf in imfs])\n",
    "    keep          = (energy_ratios >= 0.02) & (np.abs(cors) >= 0.1)\n",
    "    sel_imfs      = imfs[keep]\n",
    "    imf_chan      = sel_imfs.T  # shape (T, n_sel)\n",
    "\n",
    "    # 5) Build X and y\n",
    "    X_raw = np.hstack([imf_chan, tech.values])       # features\n",
    "    y_raw = close.to_numpy(dtype=np.float32)         # target\n",
    "\n",
    "    # 6) Save per-ticker outputs\n",
    "    tl = ticker.lower()\n",
    "    np.save(os.path.join(OUTDIR, f\"{tl}_all_imfs.npy\"),       imfs)\n",
    "    np.save(os.path.join(OUTDIR, f\"{tl}_filtered_imfs.npy\"),  sel_imfs)\n",
    "    np.save(os.path.join(OUTDIR, f\"{tl}_denoised_signal.npy\"), sel_imfs.sum(axis=0))\n",
    "    tech.to_csv(os.path.join(OUTDIR, f\"{tl}_tech_scaled_features.csv\"))\n",
    "    np.save(os.path.join(OUTDIR, f\"{tl}_raw_X.npy\"),          X_raw)\n",
    "    np.save(os.path.join(OUTDIR, f\"{tl}_raw_y.npy\"),          y_raw)\n",
    "\n",
    "    print(f\"✅ {ticker} preprocessed → files in {OUTDIR}/\")\n"
   ]
  }
 ],
 "metadata": {
  "kernelspec": {
   "display_name": "stockbot",
   "language": "python",
   "name": "python3"
  },
  "language_info": {
   "codemirror_mode": {
    "name": "ipython",
    "version": 3
   },
   "file_extension": ".py",
   "mimetype": "text/x-python",
   "name": "python",
   "nbconvert_exporter": "python",
   "pygments_lexer": "ipython3",
   "version": "3.11.9"
  }
 },
 "nbformat": 4,
 "nbformat_minor": 5
}
